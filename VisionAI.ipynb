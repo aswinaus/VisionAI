{
  "nbformat": 4,
  "nbformat_minor": 0,
  "metadata": {
    "colab": {
      "provenance": [],
      "authorship_tag": "ABX9TyOS0q//iUNpsmgHqQIBtpRM",
      "include_colab_link": true
    },
    "kernelspec": {
      "name": "python3",
      "display_name": "Python 3"
    },
    "language_info": {
      "name": "python"
    }
  },
  "cells": [
    {
      "cell_type": "markdown",
      "metadata": {
        "id": "view-in-github",
        "colab_type": "text"
      },
      "source": [
        "<a href=\"https://colab.research.google.com/github/aswinaus/VisionAI/blob/main/VisionAI.ipynb\" target=\"_parent\"><img src=\"https://colab.research.google.com/assets/colab-badge.svg\" alt=\"Open In Colab\"/></a>"
      ]
    },
    {
      "cell_type": "code",
      "metadata": {
        "id": "f5483d35"
      },
      "source": [
        "!pip install -q -U google-generativeai"
      ],
      "execution_count": 1,
      "outputs": []
    },
    {
      "cell_type": "code",
      "metadata": {
        "id": "d6cdee18"
      },
      "source": [
        "import google.generativeai as genai\n",
        "import requests\n",
        "from PIL import Image\n",
        "from io import BytesIO"
      ],
      "execution_count": 2,
      "outputs": []
    },
    {
      "cell_type": "code",
      "metadata": {
        "id": "cca395c9"
      },
      "source": [
        "# Used to securely store your API key\n",
        "from google.colab import userdata\n",
        "\n",
        "GOOGLE_API_KEY=userdata.get('GOOGLE_API_KEY')\n",
        "genai.configure(api_key=GOOGLE_API_KEY)"
      ],
      "execution_count": 13,
      "outputs": []
    },
    {
      "cell_type": "code",
      "metadata": {
        "colab": {
          "base_uri": "https://localhost:8080/",
          "height": 106
        },
        "id": "3aa247df",
        "outputId": "28dc8e0f-c6f0-4120-b32d-3c8a4720f099"
      },
      "source": [
        "# Load an image from a URL\n",
        "image_url = \"https://www.middlesexda.com/sites/g/files/vyhlif11841/f/uploads/tfm_2076.jpg\"\n",
        "response = requests.get(image_url)\n",
        "img = Image.open(BytesIO(response.content))\n",
        "\n",
        "# Initialize the Gemini-Pro-Vision model\n",
        "gemini_vision_model = genai.GenerativeModel('models/gemini-1.5-flash-latest')\n",
        "\n",
        "# Generate content based on the image\n",
        "response = gemini_vision_model.generate_content(img)\n",
        "\n",
        "# Print the description\n",
        "print(response.text)\n",
        "\n",
        "# for m in genai.list_models():\n",
        "#   if 'generateContent' in m.supported_generation_methods:\n",
        "#     print(m.name)"
      ],
      "execution_count": 15,
      "outputs": [
        {
          "output_type": "stream",
          "name": "stderr",
          "text": [
            "ERROR:tornado.access:503 POST /v1beta/models/gemini-1.5-flash-latest:generateContent?%24alt=json%3Benum-encoding%3Dint (127.0.0.1) 23689.15ms\n"
          ]
        },
        {
          "output_type": "stream",
          "name": "stdout",
          "text": [
            "Here is a caption about the image:\n",
            "\n",
            "A street scene showing the aftermath of what appears to be a traffic accident.  Police tape is across the street, and scattered belongings, including a backpack and clothing, are visible on the road near a traffic cone.  Police officers are visible near a restaurant called Cancun Bar & Restaurante.\n"
          ]
        }
      ]
    }
  ]
}